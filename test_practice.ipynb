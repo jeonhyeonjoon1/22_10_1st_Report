{
  "nbformat": 4,
  "nbformat_minor": 0,
  "metadata": {
    "colab": {
      "provenance": [],
      "authorship_tag": "ABX9TyMt/6pW/E5jWVhBz+zINlYa",
      "include_colab_link": true
    },
    "kernelspec": {
      "name": "python3",
      "display_name": "Python 3"
    },
    "language_info": {
      "name": "python"
    }
  },
  "cells": [
    {
      "cell_type": "markdown",
      "metadata": {
        "id": "view-in-github",
        "colab_type": "text"
      },
      "source": [
        "<a href=\"https://colab.research.google.com/github/jeonhyeonjoon1/22_10_1st_Report/blob/main/test_practice.ipynb\" target=\"_parent\"><img src=\"https://colab.research.google.com/assets/colab-badge.svg\" alt=\"Open In Colab\"/></a>"
      ]
    },
    {
      "cell_type": "code",
      "execution_count": null,
      "metadata": {
        "colab": {
          "base_uri": "https://localhost:8080/"
        },
        "id": "elgUOxf05kR2",
        "outputId": "3d61dbf5-d77a-410c-c901-9d26a97f4a36"
      },
      "outputs": [
        {
          "output_type": "stream",
          "name": "stdout",
          "text": [
            "9*9 는 81 입니다.\n"
          ]
        }
      ],
      "source": [
        "print(\"9*9 는 81 입니다.\") # print:괄호 안 해당 값을 출력 \"\":안의 값을 문자로 인식"
      ]
    },
    {
      "cell_type": "code",
      "source": [
        "print(\"Welcome Python, 저는 파이썬을 좋아합니다.\") #prins:괄호안의 값을 출력 \"\":안의값을 문자로 인식"
      ],
      "metadata": {
        "colab": {
          "base_uri": "https://localhost:8080/"
        },
        "id": "Ize0ZxGx8E9a",
        "outputId": "271e0e2f-b409-429f-ef30-7a4cd685b4c5"
      },
      "execution_count": null,
      "outputs": [
        {
          "output_type": "stream",
          "name": "stdout",
          "text": [
            "Welcome Python, 저는 파이썬을 좋아합니다.\n"
          ]
        }
      ]
    },
    {
      "cell_type": "code",
      "source": [
        "import turtle\n",
        "t= turtle.Turtle"
      ],
      "metadata": {
        "id": "PDACLl0e9Kko"
      },
      "execution_count": null,
      "outputs": []
    },
    {
      "cell_type": "code",
      "source": [
        "1+2, 2-3, 3*4, 4/4"
      ],
      "metadata": {
        "colab": {
          "base_uri": "https://localhost:8080/"
        },
        "id": "GksH67dHVbjm",
        "outputId": "6c7143d6-20eb-4e10-8b7b-5e6384a368a9"
      },
      "execution_count": 3,
      "outputs": [
        {
          "output_type": "execute_result",
          "data": {
            "text/plain": [
              "(3, -1, 12, 1.0)"
            ]
          },
          "metadata": {},
          "execution_count": 3
        }
      ]
    },
    {
      "cell_type": "code",
      "source": [],
      "metadata": {
        "id": "RkBhw-jwVpy_"
      },
      "execution_count": null,
      "outputs": []
    },
    {
      "cell_type": "code",
      "source": [],
      "metadata": {
        "id": "1NOJ8Mes9THL"
      },
      "execution_count": null,
      "outputs": []
    }
  ]
}