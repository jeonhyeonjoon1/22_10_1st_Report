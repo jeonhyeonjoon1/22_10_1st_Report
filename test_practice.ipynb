{
  "nbformat": 4,
  "nbformat_minor": 0,
  "metadata": {
    "colab": {
      "provenance": [],
      "authorship_tag": "ABX9TyPx+jkfB/p+qKtQ8YDV9bYO",
      "include_colab_link": true
    },
    "kernelspec": {
      "name": "python3",
      "display_name": "Python 3"
    },
    "language_info": {
      "name": "python"
    }
  },
  "cells": [
    {
      "cell_type": "markdown",
      "metadata": {
        "id": "view-in-github",
        "colab_type": "text"
      },
      "source": [
        "<a href=\"https://colab.research.google.com/github/jeonhyeonjoon1/22_10_1st_Report/blob/main/test_practice.ipynb\" target=\"_parent\"><img src=\"https://colab.research.google.com/assets/colab-badge.svg\" alt=\"Open In Colab\"/></a>"
      ]
    },
    {
      "cell_type": "code",
      "execution_count": 4,
      "metadata": {
        "colab": {
          "base_uri": "https://localhost:8080/"
        },
        "id": "elgUOxf05kR2",
        "outputId": "1499bd08-e229-478a-a4f8-ab07bc619eb0"
      },
      "outputs": [
        {
          "output_type": "stream",
          "name": "stdout",
          "text": [
            "9*9 는 81 입니다.\n"
          ]
        }
      ],
      "source": [
        "print(\"9*9 는 81 입니다.\")"
      ]
    },
    {
      "cell_type": "code",
      "source": [
        "print(\"Welcome Python, 저는 파이썬을 좋아합니다.\")"
      ],
      "metadata": {
        "colab": {
          "base_uri": "https://localhost:8080/"
        },
        "id": "Ize0ZxGx8E9a",
        "outputId": "271e0e2f-b409-429f-ef30-7a4cd685b4c5"
      },
      "execution_count": 5,
      "outputs": [
        {
          "output_type": "stream",
          "name": "stdout",
          "text": [
            "Welcome Python, 저는 파이썬을 좋아합니다.\n"
          ]
        }
      ]
    }
  ]
}